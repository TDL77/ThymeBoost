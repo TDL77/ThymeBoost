{
 "cells": [
  {
   "cell_type": "code",
   "execution_count": null,
   "id": "e91755d1",
   "metadata": {},
   "outputs": [],
   "source": [
    "from ThymeBoost import ThymeBoost as tb"
   ]
  },
  {
   "cell_type": "markdown",
   "id": "619d6c01",
   "metadata": {},
   "source": [
    "Simple example with yahoo finance grabbing microsoft prices from yahoo finance api documentation. There are gaps in the index so we are just resetting the index to allow fitting. Better to fill gaps or do something else!"
   ]
  },
  {
   "cell_type": "code",
   "execution_count": null,
   "id": "bef85030",
   "metadata": {},
   "outputs": [],
   "source": [
    "import yfinance as yf\n",
    "msft = yf.Ticker(\"MSFT\")\n",
    "\n",
    "# get historical market data\n",
    "hist = msft.history(period=\"max\")\n",
    "\n",
    "current_df = hist.iloc[-900:-100].reset_index()\n",
    "future_df = hist.iloc[-100:].reset_index()\n",
    "\n",
    "y_train = current_df['High']\n",
    "X_train = current_df[['Volume', 'Stock Splits']]\n",
    "\n",
    "y_test = future_df['High']\n",
    "X_test = future_df[['Volume', 'Stock Splits']]"
   ]
  },
  {
   "cell_type": "markdown",
   "id": "66765258",
   "metadata": {},
   "source": [
    "Just using volume and stock splits as two variables since it comes with the api call."
   ]
  },
  {
   "cell_type": "code",
   "execution_count": null,
   "id": "0bcd2170",
   "metadata": {},
   "outputs": [],
   "source": [
    "boosted_model = tb.ThymeBoost(verbose=0)\n",
    "output = boosted_model.fit(y_train,\n",
    "                           trend_estimator=['linear','ses'],\n",
    "                           seasonal_estimator='fourier',\n",
    "                           global_cost='mse',\n",
    "                           exogenous_estimator='ols',\n",
    "                           fit_type=['local', 'global'],\n",
    "                            exogenous=X_train,\n",
    "                           )\n",
    "predicted_output = boosted_model.predict(output, 100, future_exogenous=X_test)"
   ]
  },
  {
   "cell_type": "code",
   "execution_count": null,
   "id": "1a04e966",
   "metadata": {},
   "outputs": [],
   "source": [
    "boosted_model.plot_results(output, predicted_output)"
   ]
  },
  {
   "cell_type": "code",
   "execution_count": null,
   "id": "98195377",
   "metadata": {},
   "outputs": [],
   "source": [
    "boosted_model.plot_components(output, predicted_output)"
   ]
  },
  {
   "cell_type": "code",
   "execution_count": null,
   "id": "5e67d5c0",
   "metadata": {},
   "outputs": [],
   "source": [
    "boosted_model = tb.ThymeBoost(verbose=0)\n",
    "output = boosted_model.optimize(y_train,\n",
    "                                trend_estimator=[['linear','ses'], 'linear'],\n",
    "                                seasonal_estimator=['fourier'],\n",
    "                                global_cost=['mse'],\n",
    "                                exogenous_estimator=['ols', 'decision_tree'],\n",
    "                                fit_type=[['local', 'global'], 'global'],\n",
    "                                exogenous=[X_train, None],\n",
    "                                optimization_strategy='rolling',\n",
    "                                lag=32,\n",
    "                                optimization_steps=8\n",
    "                                )\n",
    "predicted_output = boosted_model.predict(output, 100, future_exogenous=X_test)"
   ]
  },
  {
   "cell_type": "code",
   "execution_count": null,
   "id": "6c1930f9",
   "metadata": {},
   "outputs": [],
   "source": [
    "boosted_model.plot_results(output, predicted_output)"
   ]
  }
 ],
 "metadata": {
  "kernelspec": {
   "display_name": "Python 3 (ipykernel)",
   "language": "python",
   "name": "python3"
  },
  "language_info": {
   "codemirror_mode": {
    "name": "ipython",
    "version": 3
   },
   "file_extension": ".py",
   "mimetype": "text/x-python",
   "name": "python",
   "nbconvert_exporter": "python",
   "pygments_lexer": "ipython3",
   "version": "3.7.9"
  }
 },
 "nbformat": 4,
 "nbformat_minor": 5
}
